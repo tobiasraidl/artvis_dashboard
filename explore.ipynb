{
 "cells": [
  {
   "cell_type": "code",
   "execution_count": 9,
   "metadata": {},
   "outputs": [
    {
     "data": {
      "text/html": [
       "<div>\n",
       "<style scoped>\n",
       "    .dataframe tbody tr th:only-of-type {\n",
       "        vertical-align: middle;\n",
       "    }\n",
       "\n",
       "    .dataframe tbody tr th {\n",
       "        vertical-align: top;\n",
       "    }\n",
       "\n",
       "    .dataframe thead th {\n",
       "        text-align: right;\n",
       "    }\n",
       "</style>\n",
       "<table border=\"1\" class=\"dataframe\">\n",
       "  <thead>\n",
       "    <tr style=\"text-align: right;\">\n",
       "      <th></th>\n",
       "      <th>a.id</th>\n",
       "      <th>a.firstname</th>\n",
       "      <th>a.lastname</th>\n",
       "      <th>a.gender</th>\n",
       "      <th>a.birthdate</th>\n",
       "      <th>a.deathdate</th>\n",
       "      <th>a.birthplace</th>\n",
       "      <th>a.deathplace</th>\n",
       "      <th>a.nationality</th>\n",
       "      <th>e.id</th>\n",
       "      <th>e.title</th>\n",
       "      <th>e.venue</th>\n",
       "      <th>e.startdate</th>\n",
       "      <th>e.type</th>\n",
       "      <th>e.paintings</th>\n",
       "      <th>e.country</th>\n",
       "      <th>e.city</th>\n",
       "      <th>e.latitude</th>\n",
       "      <th>e.longitude</th>\n",
       "    </tr>\n",
       "  </thead>\n",
       "  <tbody>\n",
       "    <tr>\n",
       "      <th>0</th>\n",
       "      <td>1</td>\n",
       "      <td>William Bernard</td>\n",
       "      <td>Adeney</td>\n",
       "      <td>M</td>\n",
       "      <td>1878-01-01</td>\n",
       "      <td>1966-01-01</td>\n",
       "      <td>London</td>\n",
       "      <td>London</td>\n",
       "      <td>GB</td>\n",
       "      <td>489</td>\n",
       "      <td>Second Post-Impressionist Exhibition. British,...</td>\n",
       "      <td>Grafton Galleries</td>\n",
       "      <td>1912</td>\n",
       "      <td>group</td>\n",
       "      <td>4</td>\n",
       "      <td>GB</td>\n",
       "      <td>London</td>\n",
       "      <td>51.514248</td>\n",
       "      <td>-0.093145</td>\n",
       "    </tr>\n",
       "    <tr>\n",
       "      <th>1</th>\n",
       "      <td>1</td>\n",
       "      <td>William Bernard</td>\n",
       "      <td>Adeney</td>\n",
       "      <td>M</td>\n",
       "      <td>1878-01-01</td>\n",
       "      <td>1966-01-01</td>\n",
       "      <td>London</td>\n",
       "      <td>London</td>\n",
       "      <td>GB</td>\n",
       "      <td>618</td>\n",
       "      <td>Exhibition of the Camden Town Group and Others</td>\n",
       "      <td>Public Art Galleries</td>\n",
       "      <td>1913</td>\n",
       "      <td>group</td>\n",
       "      <td>6</td>\n",
       "      <td>GB</td>\n",
       "      <td>Brighton</td>\n",
       "      <td>50.833333</td>\n",
       "      <td>-0.150000</td>\n",
       "    </tr>\n",
       "    <tr>\n",
       "      <th>2</th>\n",
       "      <td>1</td>\n",
       "      <td>William Bernard</td>\n",
       "      <td>Adeney</td>\n",
       "      <td>M</td>\n",
       "      <td>1878-01-01</td>\n",
       "      <td>1966-01-01</td>\n",
       "      <td>London</td>\n",
       "      <td>London</td>\n",
       "      <td>GB</td>\n",
       "      <td>720</td>\n",
       "      <td>The Second Exhibition of Works by Members of t...</td>\n",
       "      <td>Goupil Gallery</td>\n",
       "      <td>1915</td>\n",
       "      <td>group</td>\n",
       "      <td>4</td>\n",
       "      <td>GB</td>\n",
       "      <td>London</td>\n",
       "      <td>51.514248</td>\n",
       "      <td>-0.093145</td>\n",
       "    </tr>\n",
       "    <tr>\n",
       "      <th>3</th>\n",
       "      <td>1</td>\n",
       "      <td>William Bernard</td>\n",
       "      <td>Adeney</td>\n",
       "      <td>M</td>\n",
       "      <td>1878-01-01</td>\n",
       "      <td>1966-01-01</td>\n",
       "      <td>London</td>\n",
       "      <td>London</td>\n",
       "      <td>GB</td>\n",
       "      <td>729</td>\n",
       "      <td>Third Exhibition of Works by Members of the Lo...</td>\n",
       "      <td>Goupil Gallery</td>\n",
       "      <td>1915</td>\n",
       "      <td>group</td>\n",
       "      <td>5</td>\n",
       "      <td>GB</td>\n",
       "      <td>London</td>\n",
       "      <td>51.514248</td>\n",
       "      <td>-0.093145</td>\n",
       "    </tr>\n",
       "    <tr>\n",
       "      <th>4</th>\n",
       "      <td>1</td>\n",
       "      <td>William Bernard</td>\n",
       "      <td>Adeney</td>\n",
       "      <td>M</td>\n",
       "      <td>1878-01-01</td>\n",
       "      <td>1966-01-01</td>\n",
       "      <td>London</td>\n",
       "      <td>London</td>\n",
       "      <td>GB</td>\n",
       "      <td>650</td>\n",
       "      <td>The First Exhibition of Works by Members of Th...</td>\n",
       "      <td>Goupil Gallery</td>\n",
       "      <td>1914</td>\n",
       "      <td>group</td>\n",
       "      <td>5</td>\n",
       "      <td>GB</td>\n",
       "      <td>London</td>\n",
       "      <td>51.514248</td>\n",
       "      <td>-0.093145</td>\n",
       "    </tr>\n",
       "  </tbody>\n",
       "</table>\n",
       "</div>"
      ],
      "text/plain": [
       "   a.id      a.firstname a.lastname a.gender a.birthdate a.deathdate  \\\n",
       "0     1  William Bernard     Adeney        M  1878-01-01  1966-01-01   \n",
       "1     1  William Bernard     Adeney        M  1878-01-01  1966-01-01   \n",
       "2     1  William Bernard     Adeney        M  1878-01-01  1966-01-01   \n",
       "3     1  William Bernard     Adeney        M  1878-01-01  1966-01-01   \n",
       "4     1  William Bernard     Adeney        M  1878-01-01  1966-01-01   \n",
       "\n",
       "  a.birthplace a.deathplace a.nationality  e.id  \\\n",
       "0       London       London            GB   489   \n",
       "1       London       London            GB   618   \n",
       "2       London       London            GB   720   \n",
       "3       London       London            GB   729   \n",
       "4       London       London            GB   650   \n",
       "\n",
       "                                             e.title               e.venue  \\\n",
       "0  Second Post-Impressionist Exhibition. British,...     Grafton Galleries   \n",
       "1     Exhibition of the Camden Town Group and Others  Public Art Galleries   \n",
       "2  The Second Exhibition of Works by Members of t...        Goupil Gallery   \n",
       "3  Third Exhibition of Works by Members of the Lo...        Goupil Gallery   \n",
       "4  The First Exhibition of Works by Members of Th...        Goupil Gallery   \n",
       "\n",
       "   e.startdate e.type  e.paintings e.country    e.city  e.latitude  \\\n",
       "0         1912  group            4        GB    London   51.514248   \n",
       "1         1913  group            6        GB  Brighton   50.833333   \n",
       "2         1915  group            4        GB    London   51.514248   \n",
       "3         1915  group            5        GB    London   51.514248   \n",
       "4         1914  group            5        GB    London   51.514248   \n",
       "\n",
       "   e.longitude  \n",
       "0    -0.093145  \n",
       "1    -0.150000  \n",
       "2    -0.093145  \n",
       "3    -0.093145  \n",
       "4    -0.093145  "
      ]
     },
     "execution_count": 9,
     "metadata": {},
     "output_type": "execute_result"
    }
   ],
   "source": [
    "import pandas as pd\n",
    "\n",
    "df = pd.read_csv('data/artvis.csv', sep=';')\n",
    "df[['e.latitude', 'e.longitude']] = df[['e.latitude', 'e.longitude']].apply(pd.to_numeric, errors='coerce')\n",
    "df = df.dropna(subset=['e.latitude', 'e.longitude', 'e.startdate'])\n",
    "df = df[df['e.city'] != '-']\n",
    "df[['e.latitude', 'e.longitude']] = df[['e.latitude', 'e.longitude']].astype(float)\n",
    "df.head()"
   ]
  },
  {
   "cell_type": "code",
   "execution_count": 10,
   "metadata": {},
   "outputs": [
    {
     "name": "stdout",
     "output_type": "stream",
     "text": [
      "Index(['a.id', 'a.firstname', 'a.lastname', 'a.gender', 'a.birthdate',\n",
      "       'a.deathdate', 'a.birthplace', 'a.deathplace', 'a.nationality', 'e.id',\n",
      "       'e.title', 'e.venue', 'e.startdate', 'e.type', 'e.paintings',\n",
      "       'e.country', 'e.city', 'e.latitude', 'e.longitude'],\n",
      "      dtype='object')\n"
     ]
    },
    {
     "data": {
      "application/vnd.plotly.v1+json": {
       "config": {
        "plotlyServerURL": "https://plot.ly"
       },
       "data": [
        {
         "hovertemplate": "count=%{marker.size}<br>e.latitude=%{lat}<br>e.longitude=%{lon}<extra></extra>",
         "lat": [
          35.75,
          37.7667,
          39.15,
          40.4333,
          40.7,
          40.833333,
          41.398371,
          41.85,
          41.9,
          42.35,
          43.285413,
          43.599516,
          43.766667,
          45.0333,
          45.438611,
          45.466667,
          46.5,
          47.03208,
          47.083333,
          47.366667,
          47.473806,
          47.5,
          47.558395,
          48.15,
          48.2167,
          48.600381,
          48.766667,
          48.856,
          48.866667,
          49.3167,
          49.433333,
          49.4667,
          49.4833,
          49.488333,
          49.6333,
          49.870556,
          49.95,
          50.05,
          50.1,
          50.116667,
          50.1667,
          50.2167,
          50.4333,
          50.833333,
          50.833333,
          50.833333,
          50.933333,
          50.933333,
          50.983333,
          51.05,
          51.05,
          51.1,
          51.213886,
          51.216667,
          51.223392,
          51.3333,
          51.333333,
          51.35,
          51.45,
          51.514248,
          51.566667,
          51.833333,
          51.916667,
          51.983333,
          52.033333,
          52.083333,
          52.083333,
          52.166667,
          52.35,
          52.416667,
          52.516667,
          53.083333,
          53.416667,
          53.55,
          54.6833,
          55.75,
          55.833333,
          56.95,
          57.7167,
          59.3333,
          59.8833,
          59.9333
         ],
         "legendgroup": "",
         "lon": [
          139.5,
          -122.4167,
          -84.45,
          -79.9833,
          -74,
          14.25,
          2.1741,
          -87.65,
          12.483333,
          -71.05,
          5.37606,
          1.433188,
          11.25,
          39,
          12.326667,
          9.2,
          30.7667,
          8.432192,
          8.266667,
          8.55,
          -0.54774,
          19.05,
          7.573271,
          11.583333,
          16.3667,
          7.787355,
          9.183333,
          17.123,
          2.333333,
          17.45,
          1.083333,
          17.1167,
          17.95,
          8.464722,
          17.25,
          8.649444,
          15.7833,
          19.9167,
          14.4333,
          8.683333,
          14.1167,
          15.8333,
          30.5167,
          -0.15,
          4.333333,
          12.916667,
          6.95,
          11.583333,
          11.316667,
          3.716667,
          13.75,
          17,
          4.401514,
          6.766667,
          2.911854,
          12.4167,
          6.566667,
          7.466667,
          6.95,
          -0.093145,
          3.5,
          5.866667,
          4.5,
          5.916667,
          8.533333,
          4.3,
          5.133333,
          11.666667,
          4.916667,
          12.55,
          13.4,
          8.8,
          -3,
          10,
          25.3167,
          37.7,
          -4.25,
          24.1,
          11.9667,
          18.0833,
          30.25,
          10.75
         ],
         "marker": {
          "color": "#636efa",
          "size": [
           26,
           1,
           21,
           1472,
           949,
           6,
           8,
           183,
           824,
           59,
           82,
           358,
           107,
           28,
           5278,
           816,
           438,
           44,
           15,
           246,
           200,
           4096,
           202,
           8479,
           4771,
           202,
           202,
           282,
           5421,
           27,
           95,
           2,
           28,
           490,
           37,
           193,
           20,
           38,
           1830,
           86,
           52,
           1,
           485,
           245,
           2404,
           1,
           1329,
           1,
           157,
           730,
           183,
           2,
           385,
           963,
           96,
           649,
           1,
           1,
           90,
           8136,
           67,
           68,
           15,
           428,
           1,
           1,
           2,
           1,
           6110,
           9,
           6143,
           811,
           50,
           95,
           17,
           1323,
           21,
           414,
           386,
           106,
           1536,
           5
          ],
          "sizemode": "area",
          "sizeref": 21.1975
         },
         "mode": "markers",
         "name": "",
         "showlegend": false,
         "subplot": "mapbox",
         "type": "scattermapbox"
        }
       ],
       "layout": {
        "height": 600,
        "legend": {
         "itemsizing": "constant",
         "tracegroupgap": 0
        },
        "mapbox": {
         "center": {
          "lat": 49.39861243902439,
          "lon": 5.609300597560976
         },
         "domain": {
          "x": [
           0,
           1
          ],
          "y": [
           0,
           1
          ]
         },
         "style": "carto-positron",
         "zoom": 4
        },
        "margin": {
         "t": 60
        },
        "template": {
         "data": {
          "bar": [
           {
            "error_x": {
             "color": "#2a3f5f"
            },
            "error_y": {
             "color": "#2a3f5f"
            },
            "marker": {
             "line": {
              "color": "#E5ECF6",
              "width": 0.5
             },
             "pattern": {
              "fillmode": "overlay",
              "size": 10,
              "solidity": 0.2
             }
            },
            "type": "bar"
           }
          ],
          "barpolar": [
           {
            "marker": {
             "line": {
              "color": "#E5ECF6",
              "width": 0.5
             },
             "pattern": {
              "fillmode": "overlay",
              "size": 10,
              "solidity": 0.2
             }
            },
            "type": "barpolar"
           }
          ],
          "carpet": [
           {
            "aaxis": {
             "endlinecolor": "#2a3f5f",
             "gridcolor": "white",
             "linecolor": "white",
             "minorgridcolor": "white",
             "startlinecolor": "#2a3f5f"
            },
            "baxis": {
             "endlinecolor": "#2a3f5f",
             "gridcolor": "white",
             "linecolor": "white",
             "minorgridcolor": "white",
             "startlinecolor": "#2a3f5f"
            },
            "type": "carpet"
           }
          ],
          "choropleth": [
           {
            "colorbar": {
             "outlinewidth": 0,
             "ticks": ""
            },
            "type": "choropleth"
           }
          ],
          "contour": [
           {
            "colorbar": {
             "outlinewidth": 0,
             "ticks": ""
            },
            "colorscale": [
             [
              0,
              "#0d0887"
             ],
             [
              0.1111111111111111,
              "#46039f"
             ],
             [
              0.2222222222222222,
              "#7201a8"
             ],
             [
              0.3333333333333333,
              "#9c179e"
             ],
             [
              0.4444444444444444,
              "#bd3786"
             ],
             [
              0.5555555555555556,
              "#d8576b"
             ],
             [
              0.6666666666666666,
              "#ed7953"
             ],
             [
              0.7777777777777778,
              "#fb9f3a"
             ],
             [
              0.8888888888888888,
              "#fdca26"
             ],
             [
              1,
              "#f0f921"
             ]
            ],
            "type": "contour"
           }
          ],
          "contourcarpet": [
           {
            "colorbar": {
             "outlinewidth": 0,
             "ticks": ""
            },
            "type": "contourcarpet"
           }
          ],
          "heatmap": [
           {
            "colorbar": {
             "outlinewidth": 0,
             "ticks": ""
            },
            "colorscale": [
             [
              0,
              "#0d0887"
             ],
             [
              0.1111111111111111,
              "#46039f"
             ],
             [
              0.2222222222222222,
              "#7201a8"
             ],
             [
              0.3333333333333333,
              "#9c179e"
             ],
             [
              0.4444444444444444,
              "#bd3786"
             ],
             [
              0.5555555555555556,
              "#d8576b"
             ],
             [
              0.6666666666666666,
              "#ed7953"
             ],
             [
              0.7777777777777778,
              "#fb9f3a"
             ],
             [
              0.8888888888888888,
              "#fdca26"
             ],
             [
              1,
              "#f0f921"
             ]
            ],
            "type": "heatmap"
           }
          ],
          "heatmapgl": [
           {
            "colorbar": {
             "outlinewidth": 0,
             "ticks": ""
            },
            "colorscale": [
             [
              0,
              "#0d0887"
             ],
             [
              0.1111111111111111,
              "#46039f"
             ],
             [
              0.2222222222222222,
              "#7201a8"
             ],
             [
              0.3333333333333333,
              "#9c179e"
             ],
             [
              0.4444444444444444,
              "#bd3786"
             ],
             [
              0.5555555555555556,
              "#d8576b"
             ],
             [
              0.6666666666666666,
              "#ed7953"
             ],
             [
              0.7777777777777778,
              "#fb9f3a"
             ],
             [
              0.8888888888888888,
              "#fdca26"
             ],
             [
              1,
              "#f0f921"
             ]
            ],
            "type": "heatmapgl"
           }
          ],
          "histogram": [
           {
            "marker": {
             "pattern": {
              "fillmode": "overlay",
              "size": 10,
              "solidity": 0.2
             }
            },
            "type": "histogram"
           }
          ],
          "histogram2d": [
           {
            "colorbar": {
             "outlinewidth": 0,
             "ticks": ""
            },
            "colorscale": [
             [
              0,
              "#0d0887"
             ],
             [
              0.1111111111111111,
              "#46039f"
             ],
             [
              0.2222222222222222,
              "#7201a8"
             ],
             [
              0.3333333333333333,
              "#9c179e"
             ],
             [
              0.4444444444444444,
              "#bd3786"
             ],
             [
              0.5555555555555556,
              "#d8576b"
             ],
             [
              0.6666666666666666,
              "#ed7953"
             ],
             [
              0.7777777777777778,
              "#fb9f3a"
             ],
             [
              0.8888888888888888,
              "#fdca26"
             ],
             [
              1,
              "#f0f921"
             ]
            ],
            "type": "histogram2d"
           }
          ],
          "histogram2dcontour": [
           {
            "colorbar": {
             "outlinewidth": 0,
             "ticks": ""
            },
            "colorscale": [
             [
              0,
              "#0d0887"
             ],
             [
              0.1111111111111111,
              "#46039f"
             ],
             [
              0.2222222222222222,
              "#7201a8"
             ],
             [
              0.3333333333333333,
              "#9c179e"
             ],
             [
              0.4444444444444444,
              "#bd3786"
             ],
             [
              0.5555555555555556,
              "#d8576b"
             ],
             [
              0.6666666666666666,
              "#ed7953"
             ],
             [
              0.7777777777777778,
              "#fb9f3a"
             ],
             [
              0.8888888888888888,
              "#fdca26"
             ],
             [
              1,
              "#f0f921"
             ]
            ],
            "type": "histogram2dcontour"
           }
          ],
          "mesh3d": [
           {
            "colorbar": {
             "outlinewidth": 0,
             "ticks": ""
            },
            "type": "mesh3d"
           }
          ],
          "parcoords": [
           {
            "line": {
             "colorbar": {
              "outlinewidth": 0,
              "ticks": ""
             }
            },
            "type": "parcoords"
           }
          ],
          "pie": [
           {
            "automargin": true,
            "type": "pie"
           }
          ],
          "scatter": [
           {
            "fillpattern": {
             "fillmode": "overlay",
             "size": 10,
             "solidity": 0.2
            },
            "type": "scatter"
           }
          ],
          "scatter3d": [
           {
            "line": {
             "colorbar": {
              "outlinewidth": 0,
              "ticks": ""
             }
            },
            "marker": {
             "colorbar": {
              "outlinewidth": 0,
              "ticks": ""
             }
            },
            "type": "scatter3d"
           }
          ],
          "scattercarpet": [
           {
            "marker": {
             "colorbar": {
              "outlinewidth": 0,
              "ticks": ""
             }
            },
            "type": "scattercarpet"
           }
          ],
          "scattergeo": [
           {
            "marker": {
             "colorbar": {
              "outlinewidth": 0,
              "ticks": ""
             }
            },
            "type": "scattergeo"
           }
          ],
          "scattergl": [
           {
            "marker": {
             "colorbar": {
              "outlinewidth": 0,
              "ticks": ""
             }
            },
            "type": "scattergl"
           }
          ],
          "scattermapbox": [
           {
            "marker": {
             "colorbar": {
              "outlinewidth": 0,
              "ticks": ""
             }
            },
            "type": "scattermapbox"
           }
          ],
          "scatterpolar": [
           {
            "marker": {
             "colorbar": {
              "outlinewidth": 0,
              "ticks": ""
             }
            },
            "type": "scatterpolar"
           }
          ],
          "scatterpolargl": [
           {
            "marker": {
             "colorbar": {
              "outlinewidth": 0,
              "ticks": ""
             }
            },
            "type": "scatterpolargl"
           }
          ],
          "scatterternary": [
           {
            "marker": {
             "colorbar": {
              "outlinewidth": 0,
              "ticks": ""
             }
            },
            "type": "scatterternary"
           }
          ],
          "surface": [
           {
            "colorbar": {
             "outlinewidth": 0,
             "ticks": ""
            },
            "colorscale": [
             [
              0,
              "#0d0887"
             ],
             [
              0.1111111111111111,
              "#46039f"
             ],
             [
              0.2222222222222222,
              "#7201a8"
             ],
             [
              0.3333333333333333,
              "#9c179e"
             ],
             [
              0.4444444444444444,
              "#bd3786"
             ],
             [
              0.5555555555555556,
              "#d8576b"
             ],
             [
              0.6666666666666666,
              "#ed7953"
             ],
             [
              0.7777777777777778,
              "#fb9f3a"
             ],
             [
              0.8888888888888888,
              "#fdca26"
             ],
             [
              1,
              "#f0f921"
             ]
            ],
            "type": "surface"
           }
          ],
          "table": [
           {
            "cells": {
             "fill": {
              "color": "#EBF0F8"
             },
             "line": {
              "color": "white"
             }
            },
            "header": {
             "fill": {
              "color": "#C8D4E3"
             },
             "line": {
              "color": "white"
             }
            },
            "type": "table"
           }
          ]
         },
         "layout": {
          "annotationdefaults": {
           "arrowcolor": "#2a3f5f",
           "arrowhead": 0,
           "arrowwidth": 1
          },
          "autotypenumbers": "strict",
          "coloraxis": {
           "colorbar": {
            "outlinewidth": 0,
            "ticks": ""
           }
          },
          "colorscale": {
           "diverging": [
            [
             0,
             "#8e0152"
            ],
            [
             0.1,
             "#c51b7d"
            ],
            [
             0.2,
             "#de77ae"
            ],
            [
             0.3,
             "#f1b6da"
            ],
            [
             0.4,
             "#fde0ef"
            ],
            [
             0.5,
             "#f7f7f7"
            ],
            [
             0.6,
             "#e6f5d0"
            ],
            [
             0.7,
             "#b8e186"
            ],
            [
             0.8,
             "#7fbc41"
            ],
            [
             0.9,
             "#4d9221"
            ],
            [
             1,
             "#276419"
            ]
           ],
           "sequential": [
            [
             0,
             "#0d0887"
            ],
            [
             0.1111111111111111,
             "#46039f"
            ],
            [
             0.2222222222222222,
             "#7201a8"
            ],
            [
             0.3333333333333333,
             "#9c179e"
            ],
            [
             0.4444444444444444,
             "#bd3786"
            ],
            [
             0.5555555555555556,
             "#d8576b"
            ],
            [
             0.6666666666666666,
             "#ed7953"
            ],
            [
             0.7777777777777778,
             "#fb9f3a"
            ],
            [
             0.8888888888888888,
             "#fdca26"
            ],
            [
             1,
             "#f0f921"
            ]
           ],
           "sequentialminus": [
            [
             0,
             "#0d0887"
            ],
            [
             0.1111111111111111,
             "#46039f"
            ],
            [
             0.2222222222222222,
             "#7201a8"
            ],
            [
             0.3333333333333333,
             "#9c179e"
            ],
            [
             0.4444444444444444,
             "#bd3786"
            ],
            [
             0.5555555555555556,
             "#d8576b"
            ],
            [
             0.6666666666666666,
             "#ed7953"
            ],
            [
             0.7777777777777778,
             "#fb9f3a"
            ],
            [
             0.8888888888888888,
             "#fdca26"
            ],
            [
             1,
             "#f0f921"
            ]
           ]
          },
          "colorway": [
           "#636efa",
           "#EF553B",
           "#00cc96",
           "#ab63fa",
           "#FFA15A",
           "#19d3f3",
           "#FF6692",
           "#B6E880",
           "#FF97FF",
           "#FECB52"
          ],
          "font": {
           "color": "#2a3f5f"
          },
          "geo": {
           "bgcolor": "white",
           "lakecolor": "white",
           "landcolor": "#E5ECF6",
           "showlakes": true,
           "showland": true,
           "subunitcolor": "white"
          },
          "hoverlabel": {
           "align": "left"
          },
          "hovermode": "closest",
          "mapbox": {
           "style": "light"
          },
          "paper_bgcolor": "white",
          "plot_bgcolor": "#E5ECF6",
          "polar": {
           "angularaxis": {
            "gridcolor": "white",
            "linecolor": "white",
            "ticks": ""
           },
           "bgcolor": "#E5ECF6",
           "radialaxis": {
            "gridcolor": "white",
            "linecolor": "white",
            "ticks": ""
           }
          },
          "scene": {
           "xaxis": {
            "backgroundcolor": "#E5ECF6",
            "gridcolor": "white",
            "gridwidth": 2,
            "linecolor": "white",
            "showbackground": true,
            "ticks": "",
            "zerolinecolor": "white"
           },
           "yaxis": {
            "backgroundcolor": "#E5ECF6",
            "gridcolor": "white",
            "gridwidth": 2,
            "linecolor": "white",
            "showbackground": true,
            "ticks": "",
            "zerolinecolor": "white"
           },
           "zaxis": {
            "backgroundcolor": "#E5ECF6",
            "gridcolor": "white",
            "gridwidth": 2,
            "linecolor": "white",
            "showbackground": true,
            "ticks": "",
            "zerolinecolor": "white"
           }
          },
          "shapedefaults": {
           "line": {
            "color": "#2a3f5f"
           }
          },
          "ternary": {
           "aaxis": {
            "gridcolor": "white",
            "linecolor": "white",
            "ticks": ""
           },
           "baxis": {
            "gridcolor": "white",
            "linecolor": "white",
            "ticks": ""
           },
           "bgcolor": "#E5ECF6",
           "caxis": {
            "gridcolor": "white",
            "linecolor": "white",
            "ticks": ""
           }
          },
          "title": {
           "x": 0.05
          },
          "xaxis": {
           "automargin": true,
           "gridcolor": "white",
           "linecolor": "white",
           "ticks": "",
           "title": {
            "standoff": 15
           },
           "zerolinecolor": "white",
           "zerolinewidth": 2
          },
          "yaxis": {
           "automargin": true,
           "gridcolor": "white",
           "linecolor": "white",
           "ticks": "",
           "title": {
            "standoff": 15
           },
           "zerolinecolor": "white",
           "zerolinewidth": 2
          }
         }
        }
       }
      }
     },
     "metadata": {},
     "output_type": "display_data"
    }
   ],
   "source": [
    "import pandas as pd\n",
    "import plotly.express as px\n",
    "print(df.columns)\n",
    "# df['e.latitude'] = df['e.latitude'].apply(pd.to_numeric, errors='coerce')  # Converts valid numbers, non-numeric values become NaN\n",
    "# df['e.longitude'] = df['e.longitude'].apply(pd.to_numeric, errors='coerce')  # Converts valid numbers, non-numeric values become NaN\n",
    "# df = df.dropna(subset=['e.latitude', 'e.longitude']) \n",
    "\n",
    "# df['e.latitude'] = df['e.latitude'].astype(float)\n",
    "# df['e.longitude'] = df['e.longitude'].astype(float)\n",
    "\n",
    "location_counts = df.groupby(['e.latitude', 'e.longitude']).size().reset_index(name='count')\n",
    "\n",
    "# Plotting with plotly express\n",
    "fig = px.scatter_mapbox(\n",
    "    location_counts, lat=\"e.latitude\", lon=\"e.longitude\", \n",
    "    size=\"count\",  # Use count for marker size\n",
    "    zoom=4, height=600,\n",
    "    mapbox_style=\"carto-positron\"\n",
    ")\n",
    "\n",
    "# Show the figure\n",
    "fig.show()\n"
   ]
  },
  {
   "cell_type": "markdown",
   "metadata": {},
   "source": [
    "The coordinates correspond to the cities. There is the same number of different lon x lat combinations as there are cities (city \"-\" means unknown and needs to be removed)."
   ]
  },
  {
   "cell_type": "code",
   "execution_count": 11,
   "metadata": {},
   "outputs": [
    {
     "name": "stdout",
     "output_type": "stream",
     "text": [
      "Number of unique lon x lat combinations: 82\n",
      "Number of unique venues: 311\n",
      "Number of unique venues: 82\n",
      "['London' 'Brighton' 'Rotterdam' 'Amsterdam' 'Cologne' 'Saint Petersburg'\n",
      " 'Moscow' 'Kiev' 'Berlin' 'Dresden' 'Weggis' 'Budapest' 'Vienna' 'Luzern'\n",
      " 'Munich' 'Zurich' 'Bremen' 'Weimar' 'Odessa' 'New York' 'Riga' 'Angers'\n",
      " 'Tokyo' 'Paris' 'Dusseldorf' 'Ekaterinodar' 'Chicago' 'Boston' 'Domburg'\n",
      " 'Arnhem' 'Brussels' 'Prague' 'Nijmegen' 'Rome' 'Venice' 'Milan'\n",
      " 'Florence' 'Naples' 'San Francisco' 'Leipzig' 'Darmstadt' 'Mannheim'\n",
      " 'Pittsburgh' 'Ghent' 'Hamburg' 'Essen' 'Marseille' 'Frankfurt am Main'\n",
      " 'Vilnius' 'Brandenburg an der Havel' 'Strasbourg' 'Basel' 'Stuttgart'\n",
      " 'Liverpool' 'Antwerp' 'Ostend' 'Cincinnati' 'Rouen' 'Barcelona'\n",
      " 'Stockholm' 'Gothenburg' 'Hague, The' 'Hodonín' 'Kladno' 'Prostějov'\n",
      " 'Olomouc' 'Bielefeld' 'Breslau' 'Jena' 'Chemnitz' 'Krefeld' 'Magdeburg'\n",
      " 'Hagen' 'Christiania' 'Utrecht' 'Cracow' 'Glasgow' 'Hradec Králové'\n",
      " 'Kroměříž' 'Chrudim' 'Valašské Meziříčí' 'Toulouse']\n"
     ]
    }
   ],
   "source": [
    "unique_combinations = df[['e.latitude', 'e.longitude']].drop_duplicates()\n",
    "\n",
    "# Get the number of unique combinations\n",
    "num_unique_combinations = unique_combinations.shape[0]\n",
    "num_unique_venues = df['e.venue'].nunique()\n",
    "num_unique_cities = df['e.city'].nunique()\n",
    "print(f\"Number of unique lon x lat combinations: {num_unique_combinations}\")\n",
    "print(f\"Number of unique venues: {num_unique_venues}\")\n",
    "print(f\"Number of unique venues: {num_unique_cities}\")\n",
    "\n",
    "print(df['e.city'].unique())"
   ]
  },
  {
   "cell_type": "code",
   "execution_count": 12,
   "metadata": {},
   "outputs": [
    {
     "data": {
      "text/plain": [
       "array([1912, 1913, 1915, 1914, 1916, 1910, 1911, 1909, 1907, 1906, 1905,\n",
       "       1908, 1904, 1902, 1903], dtype=int64)"
      ]
     },
     "execution_count": 12,
     "metadata": {},
     "output_type": "execute_result"
    }
   ],
   "source": [
    "df[\"e.startdate\"].unique()"
   ]
  },
  {
   "cell_type": "code",
   "execution_count": 20,
   "metadata": {},
   "outputs": [
    {
     "data": {
      "text/html": [
       "<div>\n",
       "<style scoped>\n",
       "    .dataframe tbody tr th:only-of-type {\n",
       "        vertical-align: middle;\n",
       "    }\n",
       "\n",
       "    .dataframe tbody tr th {\n",
       "        vertical-align: top;\n",
       "    }\n",
       "\n",
       "    .dataframe thead th {\n",
       "        text-align: right;\n",
       "    }\n",
       "</style>\n",
       "<table border=\"1\" class=\"dataframe\">\n",
       "  <thead>\n",
       "    <tr style=\"text-align: right;\">\n",
       "      <th></th>\n",
       "      <th>a.id</th>\n",
       "      <th>a.firstname</th>\n",
       "      <th>a.lastname</th>\n",
       "      <th>a.gender</th>\n",
       "      <th>a.birthdate</th>\n",
       "      <th>a.deathdate</th>\n",
       "      <th>a.birthplace</th>\n",
       "      <th>a.deathplace</th>\n",
       "      <th>a.nationality</th>\n",
       "      <th>e.id</th>\n",
       "      <th>e.title</th>\n",
       "      <th>e.venue</th>\n",
       "      <th>e.startdate</th>\n",
       "      <th>e.type</th>\n",
       "      <th>e.paintings</th>\n",
       "      <th>e.country</th>\n",
       "      <th>e.city</th>\n",
       "      <th>e.latitude</th>\n",
       "      <th>e.longitude</th>\n",
       "    </tr>\n",
       "  </thead>\n",
       "  <tbody>\n",
       "    <tr>\n",
       "      <th>7</th>\n",
       "      <td>2</td>\n",
       "      <td>Peter</td>\n",
       "      <td>Alma</td>\n",
       "      <td>M</td>\n",
       "      <td>1886-01-01</td>\n",
       "      <td>1969-01-01</td>\n",
       "      <td>Medan</td>\n",
       "      <td>Amsterdam</td>\n",
       "      <td>NL</td>\n",
       "      <td>716</td>\n",
       "      <td>Tentoonstelling Alma, Le Fauconnier en Mondrian</td>\n",
       "      <td>Rotterdamsche Kunstkring</td>\n",
       "      <td>1915</td>\n",
       "      <td>group</td>\n",
       "      <td>6</td>\n",
       "      <td>NL</td>\n",
       "      <td>Rotterdam</td>\n",
       "      <td>51.916667</td>\n",
       "      <td>4.5000</td>\n",
       "    </tr>\n",
       "    <tr>\n",
       "      <th>14</th>\n",
       "      <td>3</td>\n",
       "      <td>Natan</td>\n",
       "      <td>Alt'man</td>\n",
       "      <td>M</td>\n",
       "      <td>1889-01-01</td>\n",
       "      <td>1970-01-01</td>\n",
       "      <td>Vinnitsa</td>\n",
       "      <td>Saint Petersburg</td>\n",
       "      <td>RU</td>\n",
       "      <td>1482</td>\n",
       "      <td>Мир Искусства. Выставка картин</td>\n",
       "      <td>Dom Obshestva Pooshrfenija hudozhestv</td>\n",
       "      <td>1913</td>\n",
       "      <td>group</td>\n",
       "      <td>4</td>\n",
       "      <td>RU</td>\n",
       "      <td>Saint Petersburg</td>\n",
       "      <td>59.883300</td>\n",
       "      <td>30.2500</td>\n",
       "    </tr>\n",
       "    <tr>\n",
       "      <th>26</th>\n",
       "      <td>4</td>\n",
       "      <td>Cuno</td>\n",
       "      <td>Amiet</td>\n",
       "      <td>M</td>\n",
       "      <td>1868-01-01</td>\n",
       "      <td>1961-01-01</td>\n",
       "      <td>Solothurn</td>\n",
       "      <td>Seeberg</td>\n",
       "      <td>CH</td>\n",
       "      <td>312</td>\n",
       "      <td>Ausstellung der K. G. \"Brücke\"</td>\n",
       "      <td>Galerie Ernst Arnold</td>\n",
       "      <td>1910</td>\n",
       "      <td>group</td>\n",
       "      <td>2</td>\n",
       "      <td>DE</td>\n",
       "      <td>Dresden</td>\n",
       "      <td>51.050000</td>\n",
       "      <td>13.7500</td>\n",
       "    </tr>\n",
       "    <tr>\n",
       "      <th>57</th>\n",
       "      <td>5</td>\n",
       "      <td>Vassily</td>\n",
       "      <td>Kandinsky</td>\n",
       "      <td>M</td>\n",
       "      <td>1866-01-01</td>\n",
       "      <td>1944-01-01</td>\n",
       "      <td>Moscow</td>\n",
       "      <td>Neuilly-sur-Seine</td>\n",
       "      <td>RU</td>\n",
       "      <td>311</td>\n",
       "      <td>Ausstellung des Sonderbundes Westdeutscher Kun...</td>\n",
       "      <td>Sonderbund Westdeutscher Kunstfreunde und Küns...</td>\n",
       "      <td>1910</td>\n",
       "      <td>group</td>\n",
       "      <td>3</td>\n",
       "      <td>DE</td>\n",
       "      <td>Cologne</td>\n",
       "      <td>50.933333</td>\n",
       "      <td>6.9500</td>\n",
       "    </tr>\n",
       "    <tr>\n",
       "      <th>154</th>\n",
       "      <td>6</td>\n",
       "      <td>Kazimir</td>\n",
       "      <td>Malevich</td>\n",
       "      <td>M</td>\n",
       "      <td>1878-01-01</td>\n",
       "      <td>1935-01-01</td>\n",
       "      <td>Kiev</td>\n",
       "      <td>Saint Petersburg</td>\n",
       "      <td>RU</td>\n",
       "      <td>732</td>\n",
       "      <td>Последняя футуристическая выставка картин 0,10...</td>\n",
       "      <td>Художественное Бюро Добычиной</td>\n",
       "      <td>1916</td>\n",
       "      <td>group</td>\n",
       "      <td>40</td>\n",
       "      <td>RU</td>\n",
       "      <td>Saint Petersburg</td>\n",
       "      <td>59.883300</td>\n",
       "      <td>30.2500</td>\n",
       "    </tr>\n",
       "    <tr>\n",
       "      <th>...</th>\n",
       "      <td>...</td>\n",
       "      <td>...</td>\n",
       "      <td>...</td>\n",
       "      <td>...</td>\n",
       "      <td>...</td>\n",
       "      <td>...</td>\n",
       "      <td>...</td>\n",
       "      <td>...</td>\n",
       "      <td>...</td>\n",
       "      <td>...</td>\n",
       "      <td>...</td>\n",
       "      <td>...</td>\n",
       "      <td>...</td>\n",
       "      <td>...</td>\n",
       "      <td>...</td>\n",
       "      <td>...</td>\n",
       "      <td>...</td>\n",
       "      <td>...</td>\n",
       "      <td>...</td>\n",
       "    </tr>\n",
       "    <tr>\n",
       "      <th>72069</th>\n",
       "      <td>13994</td>\n",
       "      <td>Robert Van Vorst</td>\n",
       "      <td>Sewell</td>\n",
       "      <td>M</td>\n",
       "      <td>1860-01-01</td>\n",
       "      <td>1924-01-01</td>\n",
       "      <td>New York</td>\n",
       "      <td>Florence</td>\n",
       "      <td>US</td>\n",
       "      <td>296</td>\n",
       "      <td>Fourteenth Annual Exhibition</td>\n",
       "      <td>Carnegie Institute</td>\n",
       "      <td>1910</td>\n",
       "      <td>group</td>\n",
       "      <td>1</td>\n",
       "      <td>US</td>\n",
       "      <td>Pittsburgh</td>\n",
       "      <td>40.433300</td>\n",
       "      <td>-79.9833</td>\n",
       "    </tr>\n",
       "    <tr>\n",
       "      <th>72070</th>\n",
       "      <td>13995</td>\n",
       "      <td>Abbott Handerson</td>\n",
       "      <td>Thayer</td>\n",
       "      <td>M</td>\n",
       "      <td>1849-01-01</td>\n",
       "      <td>1921-01-01</td>\n",
       "      <td>Boston</td>\n",
       "      <td>Dublin</td>\n",
       "      <td>US</td>\n",
       "      <td>296</td>\n",
       "      <td>Fourteenth Annual Exhibition</td>\n",
       "      <td>Carnegie Institute</td>\n",
       "      <td>1910</td>\n",
       "      <td>group</td>\n",
       "      <td>1</td>\n",
       "      <td>US</td>\n",
       "      <td>Pittsburgh</td>\n",
       "      <td>40.433300</td>\n",
       "      <td>-79.9833</td>\n",
       "    </tr>\n",
       "    <tr>\n",
       "      <th>72071</th>\n",
       "      <td>13996</td>\n",
       "      <td>Dwight William</td>\n",
       "      <td>Tryon</td>\n",
       "      <td>M</td>\n",
       "      <td>1849-01-01</td>\n",
       "      <td>1925-01-01</td>\n",
       "      <td>Hartford, Connecticut</td>\n",
       "      <td>South Dartmouth</td>\n",
       "      <td>US</td>\n",
       "      <td>296</td>\n",
       "      <td>Fourteenth Annual Exhibition</td>\n",
       "      <td>Carnegie Institute</td>\n",
       "      <td>1910</td>\n",
       "      <td>group</td>\n",
       "      <td>1</td>\n",
       "      <td>US</td>\n",
       "      <td>Pittsburgh</td>\n",
       "      <td>40.433300</td>\n",
       "      <td>-79.9833</td>\n",
       "    </tr>\n",
       "    <tr>\n",
       "      <th>72072</th>\n",
       "      <td>13997</td>\n",
       "      <td>Louis David</td>\n",
       "      <td>Vaillant</td>\n",
       "      <td>M</td>\n",
       "      <td>1875-01-01</td>\n",
       "      <td>1944-01-01</td>\n",
       "      <td>Cleveland, Ohio</td>\n",
       "      <td>\\N</td>\n",
       "      <td>US</td>\n",
       "      <td>296</td>\n",
       "      <td>Fourteenth Annual Exhibition</td>\n",
       "      <td>Carnegie Institute</td>\n",
       "      <td>1910</td>\n",
       "      <td>group</td>\n",
       "      <td>1</td>\n",
       "      <td>US</td>\n",
       "      <td>Pittsburgh</td>\n",
       "      <td>40.433300</td>\n",
       "      <td>-79.9833</td>\n",
       "    </tr>\n",
       "    <tr>\n",
       "      <th>72073</th>\n",
       "      <td>13998</td>\n",
       "      <td>Adam Emory</td>\n",
       "      <td>Albright</td>\n",
       "      <td>M</td>\n",
       "      <td>1862-01-01</td>\n",
       "      <td>1957-01-01</td>\n",
       "      <td>Monroe</td>\n",
       "      <td>Warrenville</td>\n",
       "      <td>US</td>\n",
       "      <td>224</td>\n",
       "      <td>Thirteenth Annual Exhibition</td>\n",
       "      <td>Carnegie Institute</td>\n",
       "      <td>1909</td>\n",
       "      <td>group</td>\n",
       "      <td>1</td>\n",
       "      <td>US</td>\n",
       "      <td>Pittsburgh</td>\n",
       "      <td>40.433300</td>\n",
       "      <td>-79.9833</td>\n",
       "    </tr>\n",
       "  </tbody>\n",
       "</table>\n",
       "<p>8240 rows × 19 columns</p>\n",
       "</div>"
      ],
      "text/plain": [
       "        a.id       a.firstname a.lastname a.gender a.birthdate a.deathdate  \\\n",
       "7          2             Peter       Alma        M  1886-01-01  1969-01-01   \n",
       "14         3             Natan    Alt'man        M  1889-01-01  1970-01-01   \n",
       "26         4              Cuno      Amiet        M  1868-01-01  1961-01-01   \n",
       "57         5           Vassily  Kandinsky        M  1866-01-01  1944-01-01   \n",
       "154        6           Kazimir   Malevich        M  1878-01-01  1935-01-01   \n",
       "...      ...               ...        ...      ...         ...         ...   \n",
       "72069  13994  Robert Van Vorst     Sewell        M  1860-01-01  1924-01-01   \n",
       "72070  13995  Abbott Handerson     Thayer        M  1849-01-01  1921-01-01   \n",
       "72071  13996    Dwight William      Tryon        M  1849-01-01  1925-01-01   \n",
       "72072  13997       Louis David   Vaillant        M  1875-01-01  1944-01-01   \n",
       "72073  13998        Adam Emory   Albright        M  1862-01-01  1957-01-01   \n",
       "\n",
       "                a.birthplace       a.deathplace a.nationality  e.id  \\\n",
       "7                      Medan          Amsterdam            NL   716   \n",
       "14                  Vinnitsa   Saint Petersburg            RU  1482   \n",
       "26                 Solothurn            Seeberg            CH   312   \n",
       "57                    Moscow  Neuilly-sur-Seine            RU   311   \n",
       "154                     Kiev   Saint Petersburg            RU   732   \n",
       "...                      ...                ...           ...   ...   \n",
       "72069               New York           Florence            US   296   \n",
       "72070                 Boston             Dublin            US   296   \n",
       "72071  Hartford, Connecticut    South Dartmouth            US   296   \n",
       "72072        Cleveland, Ohio                 \\N            US   296   \n",
       "72073                 Monroe        Warrenville            US   224   \n",
       "\n",
       "                                                 e.title  \\\n",
       "7        Tentoonstelling Alma, Le Fauconnier en Mondrian   \n",
       "14                        Мир Искусства. Выставка картин   \n",
       "26                        Ausstellung der K. G. \"Brücke\"   \n",
       "57     Ausstellung des Sonderbundes Westdeutscher Kun...   \n",
       "154    Последняя футуристическая выставка картин 0,10...   \n",
       "...                                                  ...   \n",
       "72069                       Fourteenth Annual Exhibition   \n",
       "72070                       Fourteenth Annual Exhibition   \n",
       "72071                       Fourteenth Annual Exhibition   \n",
       "72072                       Fourteenth Annual Exhibition   \n",
       "72073                       Thirteenth Annual Exhibition   \n",
       "\n",
       "                                                 e.venue  e.startdate e.type  \\\n",
       "7                               Rotterdamsche Kunstkring         1915  group   \n",
       "14                 Dom Obshestva Pooshrfenija hudozhestv         1913  group   \n",
       "26                                  Galerie Ernst Arnold         1910  group   \n",
       "57     Sonderbund Westdeutscher Kunstfreunde und Küns...         1910  group   \n",
       "154                        Художественное Бюро Добычиной         1916  group   \n",
       "...                                                  ...          ...    ...   \n",
       "72069                                 Carnegie Institute         1910  group   \n",
       "72070                                 Carnegie Institute         1910  group   \n",
       "72071                                 Carnegie Institute         1910  group   \n",
       "72072                                 Carnegie Institute         1910  group   \n",
       "72073                                 Carnegie Institute         1909  group   \n",
       "\n",
       "       e.paintings e.country            e.city  e.latitude  e.longitude  \n",
       "7                6        NL         Rotterdam   51.916667       4.5000  \n",
       "14               4        RU  Saint Petersburg   59.883300      30.2500  \n",
       "26               2        DE           Dresden   51.050000      13.7500  \n",
       "57               3        DE           Cologne   50.933333       6.9500  \n",
       "154             40        RU  Saint Petersburg   59.883300      30.2500  \n",
       "...            ...       ...               ...         ...          ...  \n",
       "72069            1        US        Pittsburgh   40.433300     -79.9833  \n",
       "72070            1        US        Pittsburgh   40.433300     -79.9833  \n",
       "72071            1        US        Pittsburgh   40.433300     -79.9833  \n",
       "72072            1        US        Pittsburgh   40.433300     -79.9833  \n",
       "72073            1        US        Pittsburgh   40.433300     -79.9833  \n",
       "\n",
       "[8240 rows x 19 columns]"
      ]
     },
     "metadata": {},
     "output_type": "display_data"
    }
   ],
   "source": [
    "unique_artists_df = df.drop_duplicates(subset='a.id', keep='first')\n",
    "moved_artists_df = unique_artists_df[unique_artists_df[\"a.birthplace\"] != unique_artists_df[\"a.deathplace\"]]\n",
    "moved_artists_df = moved_artists_df[(moved_artists_df['a.birthplace'] != '\\\\N') & (moved_artists_df['a.birthplace'] != '\\\\N')]\n",
    "display(moved_artists_df)"
   ]
  }
 ],
 "metadata": {
  "kernelspec": {
   "display_name": "base",
   "language": "python",
   "name": "python3"
  },
  "language_info": {
   "codemirror_mode": {
    "name": "ipython",
    "version": 3
   },
   "file_extension": ".py",
   "mimetype": "text/x-python",
   "name": "python",
   "nbconvert_exporter": "python",
   "pygments_lexer": "ipython3",
   "version": "3.11.7"
  }
 },
 "nbformat": 4,
 "nbformat_minor": 2
}
